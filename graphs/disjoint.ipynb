{
 "cells": [
  {
   "cell_type": "code",
   "execution_count": 8,
   "metadata": {},
   "outputs": [],
   "source": [
    "class DisjointSet:\n",
    "    def __init__(self, n):\n",
    "        # Initialize parent and rank arrays\n",
    "        self.parent = [i for i in range(n + 1)]  # Each node is its own parent initially\n",
    "        self.rank = [0] * (n + 1)  # Rank initialized to 0 for all nodes\n",
    "        self.size = [i for i in range(n+1)]\n",
    "\n",
    "    def findUPar(self, node):\n",
    "        # Find the ultimate parent of the node with path compression\n",
    "        if node == self.parent[node]:\n",
    "            return node\n",
    "        self.parent[node] = self.findUPar(self.parent[node])  # Path compression\n",
    "        return self.parent[node]\n",
    "    \n",
    "    def unionByRank(self, u, v):\n",
    "        # Find the ultimate parents of u and v\n",
    "        Uu = self.findUPar(u)\n",
    "        Uv = self.findUPar(v)\n",
    "        \n",
    "        # If they already have the same ultimate parent, they are in the same set\n",
    "        if Uu == Uv:\n",
    "            return\n",
    "        \n",
    "        # Union by rank\n",
    "        if self.rank[Uu] < self.rank[Uv]:\n",
    "            self.parent[Uu] = Uv  # Attach smaller tree under larger tree\n",
    "        elif self.rank[Uv] < self.rank[Uu]:\n",
    "            self.parent[Uv] = Uu  # Attach smaller tree under larger tree\n",
    "        else:\n",
    "            # If ranks are the same, choose one as parent and increase its rank\n",
    "            self.parent[Uv] = Uu\n",
    "            self.rank[Uu] += 1\n",
    "\n",
    "\n",
    "    def unionBySize(self, u, v):\n",
    "        # Find the ultimate parents of u and v\n",
    "        Uu = self.findUPar(u)\n",
    "        Uv = self.findUPar(v)\n",
    "        \n",
    "        # If they already have the same ultimate parent, they are in the same set\n",
    "        if Uu == Uv:\n",
    "            return\n",
    "        \n",
    "        # Union by rank\n",
    "        if self.size[Uu] < self.size[Uv]:\n",
    "            self.parent[Uu] = Uv  # Attach smaller tree under larger tree\n",
    "            self.size[Uv] = +self.size[Uu]\n",
    "        else:\n",
    "            self.parent[Uv] = Uu # Attach smaller tree under larger tree\n",
    "            self.size[Uu] = +self.size[Uv]"
   ]
  },
  {
   "cell_type": "code",
   "execution_count": 6,
   "metadata": {},
   "outputs": [],
   "source": []
  },
  {
   "cell_type": "code",
   "execution_count": 9,
   "metadata": {},
   "outputs": [
    {
     "name": "stdout",
     "output_type": "stream",
     "text": [
      "no\n",
      "yes\n"
     ]
    }
   ],
   "source": [
    "ds1 =DisjointSet(7)\n",
    "ds1.unionBySize(1,2)\n",
    "ds1.unionBySize(2, 3)\n",
    "ds1.unionBySize(4,5)\n",
    "ds1.unionBySize(6,7)\n",
    "ds1.unionBySize(5,6)\n",
    "# check if 3 and 7 belong to the same component\n",
    "if ds1.findUPar(3) == ds1.findUPar(7):\n",
    "    print(\"yes\")\n",
    "else:\n",
    "    print(\"no\")\n",
    "ds1.unionBySize(3,7)\n",
    "# check if 3 and 7 belong to the same component\n",
    "if ds1.findUPar(3) == ds1.findUPar(7):\n",
    "    print(\"yes\")\n",
    "else:\n",
    "    print(\"no\")"
   ]
  },
  {
   "cell_type": "code",
   "execution_count": null,
   "metadata": {},
   "outputs": [],
   "source": []
  }
 ],
 "metadata": {
  "kernelspec": {
   "display_name": "ai",
   "language": "python",
   "name": "python3"
  },
  "language_info": {
   "codemirror_mode": {
    "name": "ipython",
    "version": 3
   },
   "file_extension": ".py",
   "mimetype": "text/x-python",
   "name": "python",
   "nbconvert_exporter": "python",
   "pygments_lexer": "ipython3",
   "version": "3.11.9"
  }
 },
 "nbformat": 4,
 "nbformat_minor": 2
}
